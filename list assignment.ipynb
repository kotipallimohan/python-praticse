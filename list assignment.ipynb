{
 "cells": [
  {
   "cell_type": "code",
   "execution_count": 10,
   "id": "4d571640",
   "metadata": {},
   "outputs": [
    {
     "name": "stdout",
     "output_type": "stream",
     "text": [
      "1,2,3,4,5\n",
      "15\n",
      "120\n"
     ]
    }
   ],
   "source": [
    "a= list(map(int,input().split(\",\")))\n",
    "sum=0\n",
    "mulp=1\n",
    "for i in a :\n",
    "    sum+=i\n",
    "    mulp*=i\n",
    "print(sum)\n",
    "print(mulp)"
   ]
  },
  {
   "cell_type": "code",
   "execution_count": 15,
   "id": "042f91d8",
   "metadata": {},
   "outputs": [
    {
     "name": "stdout",
     "output_type": "stream",
     "text": [
      "1,2,3\n",
      "4,5,6\n"
     ]
    },
    {
     "data": {
      "text/plain": [
       "'none'"
      ]
     },
     "execution_count": 15,
     "metadata": {},
     "output_type": "execute_result"
    }
   ],
   "source": [
    "a = list(map(int,input().split(\",\")))\n",
    "b = list (map(int,input().split(\",\")))\n",
    "c=\"none\"\n",
    "for i in a:\n",
    "    if i in b:\n",
    "        c= \"true\"\n",
    "        break\n",
    "c"
   ]
  },
  {
   "cell_type": "code",
   "execution_count": 18,
   "id": "c4c6bfdc",
   "metadata": {},
   "outputs": [
    {
     "name": "stdout",
     "output_type": "stream",
     "text": [
      "red,orange,green,blue,white\n",
      "black,yellow,green,blue\n",
      "['red', 'orange', 'white']\n",
      "['black', 'yellow']\n"
     ]
    }
   ],
   "source": [
    "a =list(map(str,input().split(\",\")))\n",
    "b=list(map(str,input().split(\",\")))\n",
    "n=[]\n",
    "m=[]\n",
    "for i in a:\n",
    "    if i not in b:\n",
    "        n.append(i)\n",
    "for i in b:\n",
    "    if i not in a :\n",
    "        m.append(i)\n",
    "print(n)\n",
    "print(m)\n"
   ]
  },
  {
   "cell_type": "code",
   "execution_count": null,
   "id": "b904d460",
   "metadata": {},
   "outputs": [],
   "source": []
  }
 ],
 "metadata": {
  "kernelspec": {
   "display_name": "Python 3 (ipykernel)",
   "language": "python",
   "name": "python3"
  },
  "language_info": {
   "codemirror_mode": {
    "name": "ipython",
    "version": 3
   },
   "file_extension": ".py",
   "mimetype": "text/x-python",
   "name": "python",
   "nbconvert_exporter": "python",
   "pygments_lexer": "ipython3",
   "version": "3.9.13"
  }
 },
 "nbformat": 4,
 "nbformat_minor": 5
}
